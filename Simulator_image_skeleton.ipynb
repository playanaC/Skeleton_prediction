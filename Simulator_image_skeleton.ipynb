{
  "nbformat": 4,
  "nbformat_minor": 0,
  "metadata": {
    "colab": {
      "name": "Simulator_image_skeleton.ipynb",
      "provenance": [],
      "collapsed_sections": [],
      "authorship_tag": "ABX9TyMSrSHWWodEfN8hJMjGDbBA",
      "include_colab_link": true
    },
    "kernelspec": {
      "name": "python3",
      "display_name": "Python 3"
    },
    "language_info": {
      "name": "python"
    },
    "accelerator": "GPU",
    "gpuClass": "standard"
  },
  "cells": [
    {
      "cell_type": "markdown",
      "metadata": {
        "id": "view-in-github",
        "colab_type": "text"
      },
      "source": [
        "<a href=\"https://colab.research.google.com/github/playanaC/Skeleton_prediction/blob/main/Simulator_image_skeleton.ipynb\" target=\"_parent\"><img src=\"https://colab.research.google.com/assets/colab-badge.svg\" alt=\"Open In Colab\"/></a>"
      ]
    },
    {
      "cell_type": "markdown",
      "source": [
        "**Install** libraries"
      ],
      "metadata": {
        "id": "zUXuhdh08J7_"
      }
    },
    {
      "cell_type": "code",
      "source": [
        "!apt-get install swig"
      ],
      "metadata": {
        "colab": {
          "base_uri": "https://localhost:8080/"
        },
        "id": "AIeCAKRl8OeQ",
        "outputId": "35a9f9e2-5ae5-440f-df6a-a45652371b51"
      },
      "execution_count": 1,
      "outputs": [
        {
          "output_type": "stream",
          "name": "stdout",
          "text": [
            "Reading package lists... Done\n",
            "Building dependency tree       \n",
            "Reading state information... Done\n",
            "The following package was automatically installed and is no longer required:\n",
            "  libnvidia-common-460\n",
            "Use 'apt autoremove' to remove it.\n",
            "The following additional packages will be installed:\n",
            "  swig3.0\n",
            "Suggested packages:\n",
            "  swig-doc swig-examples swig3.0-examples swig3.0-doc\n",
            "The following NEW packages will be installed:\n",
            "  swig swig3.0\n",
            "0 upgraded, 2 newly installed, 0 to remove and 49 not upgraded.\n",
            "Need to get 1,100 kB of archives.\n",
            "After this operation, 5,822 kB of additional disk space will be used.\n",
            "Get:1 http://archive.ubuntu.com/ubuntu bionic/universe amd64 swig3.0 amd64 3.0.12-1 [1,094 kB]\n",
            "Get:2 http://archive.ubuntu.com/ubuntu bionic/universe amd64 swig amd64 3.0.12-1 [6,460 B]\n",
            "Fetched 1,100 kB in 1s (1,343 kB/s)\n",
            "Selecting previously unselected package swig3.0.\n",
            "(Reading database ... 155653 files and directories currently installed.)\n",
            "Preparing to unpack .../swig3.0_3.0.12-1_amd64.deb ...\n",
            "Unpacking swig3.0 (3.0.12-1) ...\n",
            "Selecting previously unselected package swig.\n",
            "Preparing to unpack .../swig_3.0.12-1_amd64.deb ...\n",
            "Unpacking swig (3.0.12-1) ...\n",
            "Setting up swig3.0 (3.0.12-1) ...\n",
            "Setting up swig (3.0.12-1) ...\n",
            "Processing triggers for man-db (2.8.3-2ubuntu0.1) ...\n"
          ]
        }
      ]
    },
    {
      "cell_type": "markdown",
      "source": [
        "Clone github"
      ],
      "metadata": {
        "id": "mLZzUeNg8g0E"
      }
    },
    {
      "cell_type": "code",
      "source": [
        "! git clone https://github.com/playanaC/Skeleton_prediction.git"
      ],
      "metadata": {
        "colab": {
          "base_uri": "https://localhost:8080/"
        },
        "id": "HYqdaACF8Uvq",
        "outputId": "83f2db79-22cd-43b1-f906-42f5d7c06538"
      },
      "execution_count": 2,
      "outputs": [
        {
          "output_type": "stream",
          "name": "stdout",
          "text": [
            "Cloning into 'Skeleton_prediction'...\n",
            "remote: Enumerating objects: 881, done.\u001b[K\n",
            "remote: Counting objects: 100% (254/254), done.\u001b[K\n",
            "remote: Compressing objects: 100% (253/253), done.\u001b[K\n",
            "remote: Total 881 (delta 34), reused 182 (delta 0), pack-reused 627\u001b[K\n",
            "Receiving objects: 100% (881/881), 290.20 MiB | 22.21 MiB/s, done.\n",
            "Resolving deltas: 100% (95/95), done.\n",
            "Checking out files: 100% (762/762), done.\n"
          ]
        }
      ]
    },
    {
      "cell_type": "markdown",
      "source": [
        "Extract neural network model"
      ],
      "metadata": {
        "id": "YnsILqES1TsA"
      }
    },
    {
      "cell_type": "code",
      "source": [
        "%cd /content/Skeleton_prediction/Model/\n",
        "! cat model_pth.tar.bz.* > model_pth.tar.bz\n",
        "! tar -xvjf model_pth.tar.bz"
      ],
      "metadata": {
        "id": "XlqqntIr1Xl8",
        "colab": {
          "base_uri": "https://localhost:8080/"
        },
        "outputId": "d85ca1ac-9818-471e-d4e4-f88001d67bf9"
      },
      "execution_count": 18,
      "outputs": [
        {
          "output_type": "stream",
          "name": "stdout",
          "text": [
            "/content/Skeleton_prediction/Model\n",
            "model.pth\n"
          ]
        }
      ]
    },
    {
      "cell_type": "code",
      "source": [
        "import torch\n",
        "from model import Model_AL\n",
        "\n",
        "in_size = 100\n",
        "net = Model_AL(n_seq=2, in_size=in_size, hidden_size=256, batch_size=1, n_channels=1, n_classes=1, bilinear=True)\n",
        "model_total_params = sum(p.numel() for p in net.parameters() if p.requires_grad)\n",
        "print('Total parameters count:', model_total_params)"
      ],
      "metadata": {
        "colab": {
          "base_uri": "https://localhost:8080/"
        },
        "id": "rGL-DhqAkb4M",
        "outputId": "37704e96-dc62-410d-8ed7-e442fbc21c7a"
      },
      "execution_count": 35,
      "outputs": [
        {
          "output_type": "stream",
          "name": "stdout",
          "text": [
            "Total parameters count: 78756737\n"
          ]
        },
        {
          "output_type": "execute_result",
          "data": {
            "text/plain": [
              "<All keys matched successfully>"
            ]
          },
          "metadata": {},
          "execution_count": 35
        }
      ]
    },
    {
      "cell_type": "markdown",
      "source": [
        "Find opencv folder"
      ],
      "metadata": {
        "id": "sgbgAX2f808U"
      }
    },
    {
      "cell_type": "code",
      "source": [
        "!pkg-config --cflags --libs opencv"
      ],
      "metadata": {
        "colab": {
          "base_uri": "https://localhost:8080/"
        },
        "id": "KNJ2KiQN81mE",
        "outputId": "7ed67356-e696-4306-c79a-84f86f7a6345"
      },
      "execution_count": 21,
      "outputs": [
        {
          "output_type": "stream",
          "name": "stdout",
          "text": [
            "-I/usr/include/opencv -lopencv_shape -lopencv_stitching -lopencv_superres -lopencv_videostab -lopencv_aruco -lopencv_bgsegm -lopencv_bioinspired -lopencv_ccalib -lopencv_datasets -lopencv_dpm -lopencv_face -lopencv_freetype -lopencv_fuzzy -lopencv_hdf -lopencv_line_descriptor -lopencv_optflow -lopencv_video -lopencv_plot -lopencv_reg -lopencv_saliency -lopencv_stereo -lopencv_structured_light -lopencv_phase_unwrapping -lopencv_rgbd -lopencv_viz -lopencv_surface_matching -lopencv_text -lopencv_ximgproc -lopencv_calib3d -lopencv_features2d -lopencv_flann -lopencv_xobjdetect -lopencv_objdetect -lopencv_ml -lopencv_xphoto -lopencv_highgui -lopencv_videoio -lopencv_imgcodecs -lopencv_photo -lopencv_imgproc -lopencv_core\n"
          ]
        }
      ]
    },
    {
      "cell_type": "markdown",
      "source": [
        "Update g++ compiler"
      ],
      "metadata": {
        "id": "ifCch5Lm8_DC"
      }
    },
    {
      "cell_type": "code",
      "source": [
        "!g++ -v"
      ],
      "metadata": {
        "colab": {
          "base_uri": "https://localhost:8080/"
        },
        "id": "ELjEB-Vq9AD7",
        "outputId": "f633d872-6a60-4cca-e95d-82da016bd6a7"
      },
      "execution_count": 6,
      "outputs": [
        {
          "output_type": "stream",
          "name": "stdout",
          "text": [
            "Using built-in specs.\n",
            "COLLECT_GCC=g++\n",
            "COLLECT_LTO_WRAPPER=/usr/lib/gcc/x86_64-linux-gnu/7/lto-wrapper\n",
            "OFFLOAD_TARGET_NAMES=nvptx-none\n",
            "OFFLOAD_TARGET_DEFAULT=1\n",
            "Target: x86_64-linux-gnu\n",
            "Configured with: ../src/configure -v --with-pkgversion='Ubuntu 7.5.0-3ubuntu1~18.04' --with-bugurl=file:///usr/share/doc/gcc-7/README.Bugs --enable-languages=c,ada,c++,go,brig,d,fortran,objc,obj-c++ --prefix=/usr --with-gcc-major-version-only --program-suffix=-7 --program-prefix=x86_64-linux-gnu- --enable-shared --enable-linker-build-id --libexecdir=/usr/lib --without-included-gettext --enable-threads=posix --libdir=/usr/lib --enable-nls --enable-bootstrap --enable-clocale=gnu --enable-libstdcxx-debug --enable-libstdcxx-time=yes --with-default-libstdcxx-abi=new --enable-gnu-unique-object --disable-vtable-verify --enable-libmpx --enable-plugin --enable-default-pie --with-system-zlib --with-target-system-zlib --enable-objc-gc=auto --enable-multiarch --disable-werror --with-arch-32=i686 --with-abi=m64 --with-multilib-list=m32,m64,mx32 --enable-multilib --with-tune=generic --enable-offload-targets=nvptx-none --without-cuda-driver --enable-checking=release --build=x86_64-linux-gnu --host=x86_64-linux-gnu --target=x86_64-linux-gnu\n",
            "Thread model: posix\n",
            "gcc version 7.5.0 (Ubuntu 7.5.0-3ubuntu1~18.04) \n"
          ]
        }
      ]
    },
    {
      "cell_type": "code",
      "source": [
        "!apt install g++-9\n",
        "!update-alternatives --remove-all gcc \n",
        "!update-alternatives --remove-all g++\n",
        "\n",
        "!update-alternatives --install /usr/bin/gcc gcc /usr/bin/gcc-9 20\n",
        "!update-alternatives --install /usr/bin/g++ g++ /usr/bin/g++-9 20\n",
        "\n",
        "!update-alternatives --install /usr/bin/cc cc /usr/bin/gcc 30\n",
        "!update-alternatives --set cc /usr/bin/gcc\n",
        "\n",
        "!update-alternatives --install /usr/bin/c++ c++ /usr/bin/g++ 30\n",
        "!update-alternatives --set c++ /usr/bin/g++"
      ],
      "metadata": {
        "colab": {
          "base_uri": "https://localhost:8080/"
        },
        "id": "JGAG-HAE9MCW",
        "outputId": "e3154434-b7de-4ae3-d3cf-b5bf90023f17"
      },
      "execution_count": 7,
      "outputs": [
        {
          "output_type": "stream",
          "name": "stdout",
          "text": [
            "Reading package lists... Done\n",
            "Building dependency tree       \n",
            "Reading state information... Done\n",
            "Note, selecting 'python-clang-9' for regex 'g++-9'\n",
            "Note, selecting 'clang-9' for regex 'g++-9'\n",
            "Note, selecting 'clang-9-examples' for regex 'g++-9'\n",
            "Note, selecting 'libclang-9-dev' for regex 'g++-9'\n",
            "Note, selecting 'clang-9-doc' for regex 'g++-9'\n",
            "The following package was automatically installed and is no longer required:\n",
            "  libnvidia-common-460\n",
            "Use 'apt autoremove' to remove it.\n",
            "The following additional packages will be installed:\n",
            "  binfmt-support fonts-mathjax libclang-common-9-dev libclang-cpp9 libclang1-9\n",
            "  libffi-dev libjs-mathjax libllvm9 libomp-9-dev libomp5-9 libpfm4 llvm-9\n",
            "  llvm-9-dev llvm-9-runtime llvm-9-tools python-chardet python-pkg-resources\n",
            "  python-pygments python-yaml python3-pkg-resources python3-pygments\n",
            "  python3-yaml\n",
            "Suggested packages:\n",
            "  fonts-mathjax-extras fonts-stix libjs-mathjax-doc libomp-9-doc llvm-9-doc\n",
            "  python-setuptools ttf-bitstream-vera python3-setuptools\n",
            "The following NEW packages will be installed:\n",
            "  binfmt-support clang-9 clang-9-doc clang-9-examples fonts-mathjax\n",
            "  libclang-9-dev libclang-common-9-dev libclang-cpp9 libclang1-9 libffi-dev\n",
            "  libjs-mathjax libllvm9 libomp-9-dev libomp5-9 libpfm4 llvm-9 llvm-9-dev\n",
            "  llvm-9-runtime llvm-9-tools python-chardet python-clang-9\n",
            "  python-pkg-resources python-pygments python-yaml python3-pkg-resources\n",
            "  python3-pygments python3-yaml\n",
            "0 upgraded, 27 newly installed, 0 to remove and 49 not upgraded.\n",
            "Need to get 112 MB of archives.\n",
            "After this operation, 717 MB of additional disk space will be used.\n",
            "Get:1 http://archive.ubuntu.com/ubuntu bionic/main amd64 python3-yaml amd64 3.12-1build2 [109 kB]\n",
            "Get:2 http://archive.ubuntu.com/ubuntu bionic/main amd64 binfmt-support amd64 2.1.8-2 [51.6 kB]\n",
            "Get:3 http://archive.ubuntu.com/ubuntu bionic-updates/main amd64 libllvm9 amd64 1:9-2~ubuntu18.04.2 [14.8 MB]\n",
            "Get:4 http://archive.ubuntu.com/ubuntu bionic-updates/universe amd64 libclang-cpp9 amd64 1:9-2~ubuntu18.04.2 [25.1 MB]\n",
            "Get:5 http://archive.ubuntu.com/ubuntu bionic-updates/universe amd64 libclang-common-9-dev amd64 1:9-2~ubuntu18.04.2 [3,861 kB]\n",
            "Get:6 http://archive.ubuntu.com/ubuntu bionic-updates/universe amd64 libclang1-9 amd64 1:9-2~ubuntu18.04.2 [6,701 kB]\n",
            "Get:7 http://archive.ubuntu.com/ubuntu bionic-updates/universe amd64 clang-9 amd64 1:9-2~ubuntu18.04.2 [1,109 kB]\n",
            "Get:8 http://archive.ubuntu.com/ubuntu bionic/universe amd64 fonts-mathjax all 2.7.3+dfsg-1 [2,208 kB]\n",
            "Get:9 http://archive.ubuntu.com/ubuntu bionic/universe amd64 libjs-mathjax all 2.7.3+dfsg-1 [5,653 kB]\n",
            "Get:10 http://archive.ubuntu.com/ubuntu bionic-updates/universe amd64 clang-9-doc all 1:9-2~ubuntu18.04.2 [1,048 kB]\n",
            "Get:11 http://archive.ubuntu.com/ubuntu bionic-updates/universe amd64 clang-9-examples amd64 1:9-2~ubuntu18.04.2 [14.8 kB]\n",
            "Get:12 http://archive.ubuntu.com/ubuntu bionic-updates/universe amd64 libclang-9-dev amd64 1:9-2~ubuntu18.04.2 [16.9 MB]\n",
            "Get:13 http://archive.ubuntu.com/ubuntu bionic-updates/universe amd64 libomp5-9 amd64 1:9-2~ubuntu18.04.2 [299 kB]\n",
            "Get:14 http://archive.ubuntu.com/ubuntu bionic-updates/universe amd64 libomp-9-dev amd64 1:9-2~ubuntu18.04.2 [58.6 kB]\n",
            "Get:15 http://archive.ubuntu.com/ubuntu bionic-updates/universe amd64 llvm-9-runtime amd64 1:9-2~ubuntu18.04.2 [176 kB]\n",
            "Get:16 http://archive.ubuntu.com/ubuntu bionic/main amd64 libpfm4 amd64 4.9.0-2 [225 kB]\n",
            "Get:17 http://archive.ubuntu.com/ubuntu bionic-updates/universe amd64 llvm-9 amd64 1:9-2~ubuntu18.04.2 [4,874 kB]\n",
            "Get:18 http://archive.ubuntu.com/ubuntu bionic/main amd64 libffi-dev amd64 3.2.1-8 [156 kB]\n",
            "Get:19 http://archive.ubuntu.com/ubuntu bionic-updates/main amd64 python-pygments all 2.2.0+dfsg-1ubuntu0.2 [576 kB]\n",
            "Get:20 http://archive.ubuntu.com/ubuntu bionic/main amd64 python-yaml amd64 3.12-1build2 [115 kB]\n",
            "Get:21 http://archive.ubuntu.com/ubuntu bionic-updates/main amd64 python3-pygments all 2.2.0+dfsg-1ubuntu0.2 [574 kB]\n",
            "Get:22 http://archive.ubuntu.com/ubuntu bionic-updates/universe amd64 llvm-9-tools amd64 1:9-2~ubuntu18.04.2 [250 kB]\n",
            "Get:23 http://archive.ubuntu.com/ubuntu bionic-updates/universe amd64 llvm-9-dev amd64 1:9-2~ubuntu18.04.2 [26.6 MB]\n",
            "Get:24 http://archive.ubuntu.com/ubuntu bionic/main amd64 python-pkg-resources all 39.0.1-2 [128 kB]\n",
            "Get:25 http://archive.ubuntu.com/ubuntu bionic/main amd64 python-chardet all 3.0.4-1 [80.3 kB]\n",
            "Get:26 http://archive.ubuntu.com/ubuntu bionic-updates/universe amd64 python-clang-9 amd64 1:9-2~ubuntu18.04.2 [31.8 kB]\n",
            "Get:27 http://archive.ubuntu.com/ubuntu bionic/main amd64 python3-pkg-resources all 39.0.1-2 [98.8 kB]\n",
            "Fetched 112 MB in 4s (27.5 MB/s)\n",
            "Selecting previously unselected package python3-yaml.\n",
            "(Reading database ... 156444 files and directories currently installed.)\n",
            "Preparing to unpack .../00-python3-yaml_3.12-1build2_amd64.deb ...\n",
            "Unpacking python3-yaml (3.12-1build2) ...\n",
            "Selecting previously unselected package binfmt-support.\n",
            "Preparing to unpack .../01-binfmt-support_2.1.8-2_amd64.deb ...\n",
            "Unpacking binfmt-support (2.1.8-2) ...\n",
            "Selecting previously unselected package libllvm9:amd64.\n",
            "Preparing to unpack .../02-libllvm9_1%3a9-2~ubuntu18.04.2_amd64.deb ...\n",
            "Unpacking libllvm9:amd64 (1:9-2~ubuntu18.04.2) ...\n",
            "Selecting previously unselected package libclang-cpp9.\n",
            "Preparing to unpack .../03-libclang-cpp9_1%3a9-2~ubuntu18.04.2_amd64.deb ...\n",
            "Unpacking libclang-cpp9 (1:9-2~ubuntu18.04.2) ...\n",
            "Selecting previously unselected package libclang-common-9-dev.\n",
            "Preparing to unpack .../04-libclang-common-9-dev_1%3a9-2~ubuntu18.04.2_amd64.deb ...\n",
            "Unpacking libclang-common-9-dev (1:9-2~ubuntu18.04.2) ...\n",
            "Selecting previously unselected package libclang1-9.\n",
            "Preparing to unpack .../05-libclang1-9_1%3a9-2~ubuntu18.04.2_amd64.deb ...\n",
            "Unpacking libclang1-9 (1:9-2~ubuntu18.04.2) ...\n",
            "Selecting previously unselected package clang-9.\n",
            "Preparing to unpack .../06-clang-9_1%3a9-2~ubuntu18.04.2_amd64.deb ...\n",
            "Unpacking clang-9 (1:9-2~ubuntu18.04.2) ...\n",
            "Selecting previously unselected package fonts-mathjax.\n",
            "Preparing to unpack .../07-fonts-mathjax_2.7.3+dfsg-1_all.deb ...\n",
            "Unpacking fonts-mathjax (2.7.3+dfsg-1) ...\n",
            "Selecting previously unselected package libjs-mathjax.\n",
            "Preparing to unpack .../08-libjs-mathjax_2.7.3+dfsg-1_all.deb ...\n",
            "Unpacking libjs-mathjax (2.7.3+dfsg-1) ...\n",
            "Selecting previously unselected package clang-9-doc.\n",
            "Preparing to unpack .../09-clang-9-doc_1%3a9-2~ubuntu18.04.2_all.deb ...\n",
            "Unpacking clang-9-doc (1:9-2~ubuntu18.04.2) ...\n",
            "Selecting previously unselected package clang-9-examples.\n",
            "Preparing to unpack .../10-clang-9-examples_1%3a9-2~ubuntu18.04.2_amd64.deb ...\n",
            "Unpacking clang-9-examples (1:9-2~ubuntu18.04.2) ...\n",
            "Selecting previously unselected package libclang-9-dev.\n",
            "Preparing to unpack .../11-libclang-9-dev_1%3a9-2~ubuntu18.04.2_amd64.deb ...\n",
            "Unpacking libclang-9-dev (1:9-2~ubuntu18.04.2) ...\n",
            "Selecting previously unselected package libomp5-9:amd64.\n",
            "Preparing to unpack .../12-libomp5-9_1%3a9-2~ubuntu18.04.2_amd64.deb ...\n",
            "Unpacking libomp5-9:amd64 (1:9-2~ubuntu18.04.2) ...\n",
            "Selecting previously unselected package libomp-9-dev.\n",
            "Preparing to unpack .../13-libomp-9-dev_1%3a9-2~ubuntu18.04.2_amd64.deb ...\n",
            "Unpacking libomp-9-dev (1:9-2~ubuntu18.04.2) ...\n",
            "Selecting previously unselected package llvm-9-runtime.\n",
            "Preparing to unpack .../14-llvm-9-runtime_1%3a9-2~ubuntu18.04.2_amd64.deb ...\n",
            "Unpacking llvm-9-runtime (1:9-2~ubuntu18.04.2) ...\n",
            "Selecting previously unselected package libpfm4:amd64.\n",
            "Preparing to unpack .../15-libpfm4_4.9.0-2_amd64.deb ...\n",
            "Unpacking libpfm4:amd64 (4.9.0-2) ...\n",
            "Selecting previously unselected package llvm-9.\n",
            "Preparing to unpack .../16-llvm-9_1%3a9-2~ubuntu18.04.2_amd64.deb ...\n",
            "Unpacking llvm-9 (1:9-2~ubuntu18.04.2) ...\n",
            "Selecting previously unselected package libffi-dev:amd64.\n",
            "Preparing to unpack .../17-libffi-dev_3.2.1-8_amd64.deb ...\n",
            "Unpacking libffi-dev:amd64 (3.2.1-8) ...\n",
            "Selecting previously unselected package python-pygments.\n",
            "Preparing to unpack .../18-python-pygments_2.2.0+dfsg-1ubuntu0.2_all.deb ...\n",
            "Unpacking python-pygments (2.2.0+dfsg-1ubuntu0.2) ...\n",
            "Selecting previously unselected package python-yaml.\n",
            "Preparing to unpack .../19-python-yaml_3.12-1build2_amd64.deb ...\n",
            "Unpacking python-yaml (3.12-1build2) ...\n",
            "Selecting previously unselected package python3-pygments.\n",
            "Preparing to unpack .../20-python3-pygments_2.2.0+dfsg-1ubuntu0.2_all.deb ...\n",
            "Unpacking python3-pygments (2.2.0+dfsg-1ubuntu0.2) ...\n",
            "Selecting previously unselected package llvm-9-tools.\n",
            "Preparing to unpack .../21-llvm-9-tools_1%3a9-2~ubuntu18.04.2_amd64.deb ...\n",
            "Unpacking llvm-9-tools (1:9-2~ubuntu18.04.2) ...\n",
            "Selecting previously unselected package llvm-9-dev.\n",
            "Preparing to unpack .../22-llvm-9-dev_1%3a9-2~ubuntu18.04.2_amd64.deb ...\n",
            "Unpacking llvm-9-dev (1:9-2~ubuntu18.04.2) ...\n",
            "Selecting previously unselected package python-pkg-resources.\n",
            "Preparing to unpack .../23-python-pkg-resources_39.0.1-2_all.deb ...\n",
            "Unpacking python-pkg-resources (39.0.1-2) ...\n",
            "Selecting previously unselected package python-chardet.\n",
            "Preparing to unpack .../24-python-chardet_3.0.4-1_all.deb ...\n",
            "Unpacking python-chardet (3.0.4-1) ...\n",
            "Selecting previously unselected package python-clang-9.\n",
            "Preparing to unpack .../25-python-clang-9_1%3a9-2~ubuntu18.04.2_amd64.deb ...\n",
            "Unpacking python-clang-9 (1:9-2~ubuntu18.04.2) ...\n",
            "Selecting previously unselected package python3-pkg-resources.\n",
            "Preparing to unpack .../26-python3-pkg-resources_39.0.1-2_all.deb ...\n",
            "Unpacking python3-pkg-resources (39.0.1-2) ...\n",
            "Setting up python3-yaml (3.12-1build2) ...\n",
            "Setting up binfmt-support (2.1.8-2) ...\n",
            "Created symlink /etc/systemd/system/multi-user.target.wants/binfmt-support.service → /lib/systemd/system/binfmt-support.service.\n",
            "invoke-rc.d: could not determine current runlevel\n",
            "invoke-rc.d: policy-rc.d denied execution of start.\n",
            "Setting up fonts-mathjax (2.7.3+dfsg-1) ...\n",
            "Setting up python-yaml (3.12-1build2) ...\n",
            "Setting up libjs-mathjax (2.7.3+dfsg-1) ...\n",
            "Setting up python-clang-9 (1:9-2~ubuntu18.04.2) ...\n",
            "Setting up clang-9-doc (1:9-2~ubuntu18.04.2) ...\n",
            "Setting up libffi-dev:amd64 (3.2.1-8) ...\n",
            "Setting up python3-pkg-resources (39.0.1-2) ...\n",
            "Setting up python-pkg-resources (39.0.1-2) ...\n",
            "Setting up libomp5-9:amd64 (1:9-2~ubuntu18.04.2) ...\n",
            "Setting up libpfm4:amd64 (4.9.0-2) ...\n",
            "Setting up python-pygments (2.2.0+dfsg-1ubuntu0.2) ...\n",
            "Setting up clang-9-examples (1:9-2~ubuntu18.04.2) ...\n",
            "Setting up libllvm9:amd64 (1:9-2~ubuntu18.04.2) ...\n",
            "Setting up libomp-9-dev (1:9-2~ubuntu18.04.2) ...\n",
            "Setting up python3-pygments (2.2.0+dfsg-1ubuntu0.2) ...\n",
            "Setting up libclang-common-9-dev (1:9-2~ubuntu18.04.2) ...\n",
            "Setting up python-chardet (3.0.4-1) ...\n",
            "Setting up libclang1-9 (1:9-2~ubuntu18.04.2) ...\n",
            "Setting up libclang-9-dev (1:9-2~ubuntu18.04.2) ...\n",
            "Setting up libclang-cpp9 (1:9-2~ubuntu18.04.2) ...\n",
            "Setting up llvm-9-runtime (1:9-2~ubuntu18.04.2) ...\n",
            "Setting up llvm-9-tools (1:9-2~ubuntu18.04.2) ...\n",
            "Setting up clang-9 (1:9-2~ubuntu18.04.2) ...\n",
            "Setting up llvm-9 (1:9-2~ubuntu18.04.2) ...\n",
            "Setting up llvm-9-dev (1:9-2~ubuntu18.04.2) ...\n",
            "Processing triggers for libc-bin (2.27-3ubuntu1.3) ...\n",
            "/sbin/ldconfig.real: /usr/local/lib/python3.7/dist-packages/ideep4py/lib/libmkldnn.so.0 is not a symbolic link\n",
            "\n",
            "Processing triggers for systemd (237-3ubuntu10.53) ...\n",
            "Processing triggers for man-db (2.8.3-2ubuntu0.1) ...\n",
            "Processing triggers for fontconfig (2.12.6-0ubuntu2) ...\n",
            "update-alternatives: error: no alternatives for gcc\n",
            "update-alternatives: error: no alternatives for g++\n",
            "update-alternatives: error: alternative path /usr/bin/gcc-9 doesn't exist\n",
            "update-alternatives: error: alternative path /usr/bin/g++-9 doesn't exist\n"
          ]
        }
      ]
    },
    {
      "cell_type": "markdown",
      "source": [
        "Compile files SWIG"
      ],
      "metadata": {
        "id": "JahPk5WP9w2e"
      }
    },
    {
      "cell_type": "code",
      "source": [
        "!swig -I/content/Skeleton_prediction/Simulator_image/opencv-swig-master/lib -I/usr/include/ -w972 -c++ -python /content/Skeleton_prediction/Simulator_image/Simulator.i\n",
        "!swig -I/content/Skeleton_prediction/Simulator_image/opencv-swig-master/lib -I/usr/include/ -w972 -c++ -python /content/Skeleton_prediction/Simulator_image/Create_image.i"
      ],
      "metadata": {
        "id": "52zUfM559xcG"
      },
      "execution_count": 22,
      "outputs": []
    },
    {
      "cell_type": "markdown",
      "source": [
        "Compile files C++"
      ],
      "metadata": {
        "id": "QYCLRgFY-l05"
      }
    },
    {
      "cell_type": "code",
      "source": [
        "!g++ -shared -fpic /content/Skeleton_prediction/Simulator_image/Simulator_wrap.cxx $(pkg-config --cflags --libs python3) $(pkg-config --cflags --libs opencv) -o /content/Skeleton_prediction/Simulator_image/_Simulator.so\n",
        "!g++ -shared -fpic /content/Skeleton_prediction/Simulator_image/Create_image_wrap.cxx $(pkg-config --cflags --libs python3) $(pkg-config --cflags --libs opencv) -o /content/Skeleton_prediction/Simulator_image/_Create_image.so"
      ],
      "metadata": {
        "id": "Aht00K3Q-mtO"
      },
      "execution_count": 23,
      "outputs": []
    },
    {
      "cell_type": "markdown",
      "source": [
        "Show all files (hide files)"
      ],
      "metadata": {
        "id": "UtH5zMMZ-yrt"
      }
    },
    {
      "cell_type": "code",
      "source": [
        "!ls /content/Skeleton_prediction/Simulator_image/ -al"
      ],
      "metadata": {
        "colab": {
          "base_uri": "https://localhost:8080/"
        },
        "id": "inmc-dXL-zcS",
        "outputId": "fe5d7933-74f5-4583-eee4-9664f33c6a62"
      },
      "execution_count": 24,
      "outputs": [
        {
          "output_type": "stream",
          "name": "stdout",
          "text": [
            "total 23804\n",
            "drwxr-xr-x 7 root root    4096 Jul 18 09:20 .\n",
            "drwxr-xr-x 5 root root    4096 Jul 18 09:00 ..\n",
            "drwxr-xr-x 2 root root    4096 Jul 18 09:00 backgrounds\n",
            "-rw-r--r-- 1 root root    5418 Jul 18 09:00 Create_image.hpp\n",
            "-rw-r--r-- 1 root root     327 Jul 18 09:00 Create_image.i\n",
            "-rw-r--r-- 1 root root  484944 Jul 18 09:19 Create_image.py\n",
            "-rwxr-xr-x 1 root root 5965400 Jul 18 09:20 _Create_image.so\n",
            "-rw-r--r-- 1 root root 5567925 Jul 18 09:19 Create_image_wrap.cxx\n",
            "drwxr-xr-x 3 root root    4096 Jul 18 09:06 Data\n",
            "-rw-r--r-- 1 root root       0 Jul 18 09:16 model_pth.tar.bz\n",
            "drwxr-xr-x 5 root root    4096 Jul 18 09:00 opencv-swig-master\n",
            "drwxr-xr-x 2 root root    4096 Jul 18 09:07 __pycache__\n",
            "-rw-r--r-- 1 root root   29346 Jul 18 09:00 Simulator.hpp\n",
            "-rw-r--r-- 1 root root     560 Jul 18 09:00 Simulator.i\n",
            "-rw-r--r-- 1 root root  478187 Jul 18 09:19 Simulator.py\n",
            "-rwxr-xr-x 1 root root 6129816 Jul 18 09:19 _Simulator.so\n",
            "-rw-r--r-- 1 root root 5619543 Jul 18 09:19 Simulator_wrap.cxx\n",
            "drwxr-xr-x 2 root root   45056 Jul 18 09:00 tracks\n"
          ]
        }
      ]
    },
    {
      "cell_type": "markdown",
      "source": [
        "Create PTS files"
      ],
      "metadata": {
        "id": "z6K2Fb6V_Jvk"
      }
    },
    {
      "cell_type": "code",
      "source": [
        "import os\n",
        "import sys\n",
        "import time\n",
        "import random\n",
        "import sys\n",
        "sys.path.append('/content/Skeleton_prediction/Simulator_image')\n",
        "\n",
        "import ctypes\n",
        "ctypes.cdll.LoadLibrary('/content/Skeleton_prediction/Simulator_image/_Simulator.so')\n",
        "import Simulator\n",
        "\n",
        "\n",
        "# Input variables\n",
        "total_image = 30\n",
        "worms = 2\n",
        "parall = 0\n",
        "coll = 2\n",
        "velocity = 1\n",
        "day_init_exp = 6\n",
        "img_agg = 6\n",
        "\n",
        "path_tracks = '/content/Skeleton_prediction/Simulator_image' + '/tracks/'\n",
        "path_backgrounds = '/content/Skeleton_prediction/Simulator_image' + '/backgrounds/'\n",
        "fold_exp_sim = '/content/Skeleton_prediction/Simulator_image' + '/Data/'\n",
        "\n",
        "if not os.path.exists(fold_exp_sim):\n",
        "    os.makedirs(fold_exp_sim)\n",
        "\n",
        "start = time.perf_counter()\n",
        "Simulator.Simulate(path_tracks, path_backgrounds, fold_exp_sim, worms, parall, coll, velocity, day_init_exp, total_image)\n",
        "end = time.perf_counter()\n",
        "time_fn = (end - start)\n",
        "\n",
        "\n",
        "newSubFolderF = fold_exp_sim + 'day = ' + str(day_init_exp) + ' cond = X pla = 1 living_worms = ' + str(worms) + '/'\n",
        "print(newSubFolderF)\n",
        "print(\"Time measured (worms=\",worms,\", images=\",total_image,\"):\", time_fn*1000, \"[ms]\")"
      ],
      "metadata": {
        "id": "IzXYfts-_LEe",
        "colab": {
          "base_uri": "https://localhost:8080/"
        },
        "outputId": "672352f0-465e-4780-d575-47ef8b0089e0"
      },
      "execution_count": 25,
      "outputs": [
        {
          "output_type": "stream",
          "name": "stdout",
          "text": [
            "/content/Skeleton_prediction/Simulator_image/Data/day = 6 cond = X pla = 1 living_worms = 2/\n",
            "Time measured (worms= 2 , images= 30 ): 35.225018999881286 [ms]\n"
          ]
        }
      ]
    },
    {
      "cell_type": "markdown",
      "source": [
        "Create and show image"
      ],
      "metadata": {
        "id": "zwTQhdLGAjI6"
      }
    },
    {
      "cell_type": "code",
      "source": [
        "import cv2\n",
        "import time\n",
        "import numpy as np\n",
        "from PIL import Image\n",
        "import matplotlib.pyplot as plt\n",
        "from skimage.measure import label, regionprops\n",
        "\n",
        "import sys\n",
        "sys.path.append('/content/Skeleton_prediction/Simulator_image')\n",
        "\n",
        "import ctypes\n",
        "ctypes.cdll.LoadLibrary('/content/Skeleton_prediction/Simulator_image/_Create_image.so')\n",
        "import Create_image\n",
        "\n",
        "path_data = newSubFolderF + 'RASP06_000029.pts'\n",
        "\n",
        "path_background_data = newSubFolderF + '/background'\n",
        "file = open(path_background_data, 'r')\n",
        "data = file.read()\n",
        "background_name = data.split(',')[0]\n",
        "path_background = path_backgrounds + background_name\n",
        "\n",
        "# Gray image low resolution\n",
        "start = time.perf_counter()\n",
        "Mat_img = Create_image.create_image(path_data,path_background)\n",
        "img = np.asarray(Mat_img)[:, :, 0]\n",
        "img = cv2.blur(img, (3, 3))\n",
        "end = time.perf_counter()\n",
        "time_cpp = end - start\n",
        "\n",
        "print(\"Time measured:\", time_cpp*1000, \"[ms]\")\n",
        "\n",
        "plt.imshow(img, cmap='gray', vmin=0, vmax=255)\n",
        "plt.show()"
      ],
      "metadata": {
        "id": "IEsXX2hdAjjs",
        "colab": {
          "base_uri": "https://localhost:8080/",
          "height": 286
        },
        "outputId": "064a5914-1eb6-4dcf-8b3d-8ea9cbb078e8"
      },
      "execution_count": 26,
      "outputs": [
        {
          "output_type": "stream",
          "name": "stdout",
          "text": [
            "Time measured: 35.32887900018977 [ms]\n"
          ]
        },
        {
          "output_type": "display_data",
          "data": {
            "text/plain": [
              "<Figure size 432x288 with 1 Axes>"
            ],
            "image/png": "[encoded data removed]"
          },
          "metadata": {
            "needs_background": "light"
          }
        }
      ]
    },
    {
      "cell_type": "markdown",
      "source": [
        "Functions to get skeletons"
      ],
      "metadata": {
        "id": "Q7Ut5vPmBYY6"
      }
    },
    {
      "cell_type": "code",
      "source": [
        "import math\n",
        "\n",
        "def build_skel_fill(H, W, XY_skels, D):\n",
        "    mask = np.zeros((H, W), dtype=np.uint8)\n",
        "    for XY_skel in XY_skels:\n",
        "        for XY in XY_skel:\n",
        "            # mask[XY[0], XY[1]] = 1\n",
        "            center_coordinates = (XY[0], XY[1])\n",
        "            mask = cv2.circle(mask, center_coordinates, D, 255, -1)\n",
        "            # plt.imshow(mask)\n",
        "            # plt.show()\n",
        "    return mask.astype(np.uint8)\n",
        "    \n",
        "\n",
        "def build_skel(H, W, XY_skels, file_type):\n",
        "    mask = np.zeros((H, W), dtype=np.uint8)\n",
        "    for XY_skel in XY_skels:\n",
        "        for XY in XY_skel:\n",
        "            if file_type == 'pts':\n",
        "                mask[XY[0], XY[1]] = 1\n",
        "            else:\n",
        "                mask[XY[1], XY[0]] = 1\n",
        "    return mask.astype(np.uint8)\n",
        "\n",
        "\n",
        "def get_skeletons(path_data):\n",
        "    file = open(path_data, 'r')\n",
        "    skel = []\n",
        "    for line in file:\n",
        "        data = line.split('P')\n",
        "\n",
        "        if len(data) == 2:\n",
        "            XY_list_str = data[1].split(\";\")\n",
        "            X = []\n",
        "            Y = []\n",
        "            for XY_p in XY_list_str:\n",
        "                XY_list = XY_p.split()\n",
        "                X.append(int(XY_list[0]))\n",
        "                Y.append(int(XY_list[1]))\n",
        "\n",
        "            points = np.transpose(np.vstack([Y, X]))\n",
        "            skel.append(points)\n",
        "\n",
        "    return skel\n",
        "\n",
        "def new_HW_cr(r0, c0, r1, c1, h_max, w_max, h_max_im, w_max_im):\n",
        "    dH = int(math.ceil((h_max - abs(c1 - c0)) / 2))\n",
        "    if abs(c1 - c0) < h_max:\n",
        "        c0_N = c0 - dH\n",
        "    else:\n",
        "        c0_N = c0\n",
        "    c1_N = c0_N + h_max\n",
        "\n",
        "    dW = int(math.ceil((w_max - abs(r1 - r0)) / 2))\n",
        "    if abs(r1 - r0) < w_max:\n",
        "        r0_N = r0 - dW\n",
        "    else:\n",
        "        r0_N = r0\n",
        "    r1_N = r0_N + w_max\n",
        "\n",
        "    if c1_N >= h_max_im:\n",
        "        dh_out = h_max_im - c1_N + 1\n",
        "        c1_N = c1_N - dh_out\n",
        "        c0_N = c0_N - dh_out\n",
        "\n",
        "    if c0_N <= 0:\n",
        "        dh_out = abs(c0_N) + 1\n",
        "        c1_N = c1_N + dh_out\n",
        "        c0_N = c0_N + dh_out\n",
        "\n",
        "    if r1_N >= w_max_im:\n",
        "        dw_out = w_max_im - r1_N + 1\n",
        "        r1_N = r1_N - dw_out\n",
        "        r0_N = r0_N - dw_out\n",
        "\n",
        "    if r0_N <= 0:\n",
        "        dw_out = abs(r0_N) + 1\n",
        "        r1_N = r1_N + dw_out\n",
        "        r0_N = r0_N + dw_out\n",
        "\n",
        "    return r0_N, c0_N, r1_N, c1_N\n",
        "\n",
        "\n",
        "def get_background_data(background_folder):\n",
        "    path_background_data = background_folder + \"/background\"\n",
        "    file = open(path_background_data, 'r')\n",
        "    data = file.read()\n",
        "    background_name = data.split(',')[0]\n",
        "    return background_name\n",
        "\n",
        "\n",
        "  \n",
        "def IMGS_SKL(base_img, pts_file1, pts_file2, path_background, Nworm, in_size):\n",
        "\n",
        "  background_name = get_background_data(base_img)\n",
        "  background_path = path_background + background_name\n",
        "\n",
        "  path_pts1 = base_img + pts_file1\n",
        "  path_pts2 = base_img + pts_file2\n",
        "\n",
        "  img1 = Create_image.create_image(path_pts1, background_path)\n",
        "  img1 = np.asarray(img1)[:, :, 0]\n",
        "  img2 = Create_image.create_image(path_pts2, background_path)\n",
        "  img2 = np.asarray(img2)[:, :, 0]\n",
        "\n",
        "  skl_list = get_skeletons(path_pts1)\n",
        "  SKL1 = build_skel(1944, 1944, [skl_list[Nworm]], 'pts')\n",
        "  label_img = label((SKL1 * 255).astype('uint8'))\n",
        "  regions = regionprops(label_img)\n",
        "  r0, c0, r1, c1 = regions[0].bbox\n",
        "  r0_N, c0_N, r1_N, c1_N = new_HW_cr(c0, r0, c1, r1, in_size, in_size, 1944, 1944)\n",
        "  # r0_N, c0_N, r1_N, c1_N = new_HW_cr(r0, c0, r1, c1, in_size, in_size, 1944, 1944)\n",
        "\n",
        "  skl_list = get_skeletons(path_pts2)\n",
        "  SKL2 = build_skel(1944, 1944, [skl_list[Nworm]], 'pts')\n",
        "\n",
        "  img1 = cv2.blur(img1[c0_N:c1_N, r0_N:r1_N], (3, 3))\n",
        "  img2 = cv2.blur(img2[c0_N:c1_N, r0_N:r1_N], (3, 3))\n",
        "  SKL1 = SKL1[c0_N:c1_N, r0_N:r1_N]\n",
        "  SKL2 = SKL2[c0_N:c1_N, r0_N:r1_N]\n",
        "\n",
        "  return img1, img2, SKL1, SKL2"
      ],
      "metadata": {
        "id": "Go5YR5OPBWoz"
      },
      "execution_count": 40,
      "outputs": []
    },
    {
      "cell_type": "markdown",
      "source": [
        "Show images (input/output network)"
      ],
      "metadata": {
        "id": "fsy4r0fSjq-W"
      }
    },
    {
      "cell_type": "code",
      "source": [
        "base_img = newSubFolderF\n",
        "\n",
        "pts_file1 = 'RASP06_000001.pts'\n",
        "pts_file2 = 'RASP06_000002.pts'\n",
        "Nworm = 0\n",
        "img1, img2, SKL1, SKL2 = IMGS_SKL(base_img, pts_file1, pts_file2, path_backgrounds, Nworm, in_size)\n",
        "\n",
        "print('     Input1  -  Input2  -  Input3   - True-mask')\n",
        "f, (ax0, ax1, ax2, ax3) = plt.subplots(1, 4)\n",
        "ax0.imshow(img1)\n",
        "ax1.imshow(img2)\n",
        "ax2.imshow(SKL1)\n",
        "ax3.imshow(SKL2)\n",
        "plt.show()"
      ],
      "metadata": {
        "colab": {
          "base_uri": "https://localhost:8080/",
          "height": 141
        },
        "id": "804yQFXPFrNG",
        "outputId": "3cc5a7a7-bd50-4d5b-eeaa-712533ee0f0e"
      },
      "execution_count": 66,
      "outputs": [
        {
          "output_type": "stream",
          "name": "stdout",
          "text": [
            "     Input1  -  Input2  -  Input3   - True-mask\n"
          ]
        },
        {
          "output_type": "display_data",
          "data": {
            "text/plain": [
              "<Figure size 432x288 with 4 Axes>"
            ],
            "image/png": "[encoded data removed]"
          },
          "metadata": {
            "needs_background": "light"
          }
        }
      ]
    },
    {
      "cell_type": "markdown",
      "source": [
        "Get network's prediction "
      ],
      "metadata": {
        "id": "XinBV8QToMxS"
      }
    },
    {
      "cell_type": "code",
      "source": [
        "path_net_eval = '/content/Skeleton_prediction/Model/model.pth'\n",
        "net.load_state_dict(torch.load(path_net_eval))\n",
        "device = torch.device('cuda' if torch.cuda.is_available() else 'cpu')\n",
        "print(device)\n",
        "\n",
        "imgs = np.zeros((in_size, in_size, 2), dtype=np.uint8)\n",
        "imgs[:, :, 0] = img1\n",
        "imgs[:, :, 1] = img2\n",
        "\n",
        "imgs = torch.from_numpy(imgs).type(torch.FloatTensor).unsqueeze(0)\n",
        "Pmasks = torch.from_numpy(SKL1).type(torch.FloatTensor).unsqueeze(0)\n",
        "true_masks = torch.from_numpy(SKL2).type(torch.FloatTensor).unsqueeze(0)\n",
        "\n",
        "imgs = imgs.to(device=device, dtype=torch.float32)\n",
        "Pmasks = Pmasks.to(device=device, dtype=torch.float32)\n",
        "mask_type = torch.float32 if net.n_classes == 1 else torch.long\n",
        "true_masks = true_masks.to(device=device, dtype=mask_type)\n",
        "\n",
        "net.eval()\n",
        "net.to(device=device)\n",
        "with torch.no_grad():\n",
        "    predict_mask = net(imgs.permute(0, 3, 1, 2), Pmasks.unsqueeze(0))\n",
        "\n",
        "pred = torch.sigmoid(predict_mask)\n",
        "pred = (pred > 0.5).float()\n",
        "\n",
        "pred = pred.squeeze(0).squeeze(0).cpu().numpy()\n",
        "plt.imshow((pred*255).astype('uint8'), cmap='gray', vmin=0, vmax=255)\n",
        "plt.show()"
      ],
      "metadata": {
        "colab": {
          "base_uri": "https://localhost:8080/",
          "height": 285
        },
        "id": "NGa_tmjToH8F",
        "outputId": "95876a08-a2dc-4a00-b1ab-76be55a1c564"
      },
      "execution_count": 47,
      "outputs": [
        {
          "output_type": "stream",
          "name": "stdout",
          "text": [
            "cuda\n"
          ]
        },
        {
          "output_type": "display_data",
          "data": {
            "text/plain": [
              "<Figure size 432x288 with 1 Axes>"
            ],
            "image/png": "[encoded data removed]"
          },
          "metadata": {
            "needs_background": "light"
          }
        }
      ]
    },
    {
      "cell_type": "markdown",
      "source": [
        "Show image (compare)"
      ],
      "metadata": {
        "id": "KVZmTnSqrBXt"
      }
    },
    {
      "cell_type": "code",
      "source": [
        "print('      Input1  -  Input2 -   Input3   -    Output')\n",
        "print('       Img1   -   Img2  - SKL(worm1) - Network_prediction')\n",
        "f, (ax0, ax1, ax2, ax3) = plt.subplots(1, 4)\n",
        "ax0.imshow(img1, cmap='gray', vmin=0, vmax=255)\n",
        "ax1.imshow(img2, cmap='gray', vmin=0, vmax=255)\n",
        "ax2.imshow(SKL1*255, cmap='gray', vmin=0, vmax=255)\n",
        "ax3.imshow(pred*255, cmap='gray', vmin=0, vmax=255)\n",
        "plt.show()\n",
        "\n",
        "print('        true_mask     -     Network_prediction')\n",
        "f, (ax0, ax1) = plt.subplots(1, 2)\n",
        "ax0.imshow(img1, cmap='gray', vmin=0, vmax=255)\n",
        "ax1.imshow(img2, cmap='gray', vmin=0, vmax=255)\n",
        "ax0.imshow(SKL2*255, cmap='gray', vmin=0, vmax=255)\n",
        "ax1.imshow(pred*255, cmap='gray', vmin=0, vmax=255)\n",
        "plt.show()"
      ],
      "metadata": {
        "colab": {
          "base_uri": "https://localhost:8080/",
          "height": 362
        },
        "id": "PQyqRD94rLkY",
        "outputId": "aa71d89a-e47c-4418-ca3e-c92ffe3c06a7"
      },
      "execution_count": 63,
      "outputs": [
        {
          "output_type": "stream",
          "name": "stdout",
          "text": [
            "      Input1  -  Input2 -   Input3  -  Output\n",
            "       Img1   -   Img2  - SKL(worm1) - Network_prediction\n"
          ]
        },
        {
          "output_type": "display_data",
          "data": {
            "text/plain": [
              "<Figure size 432x288 with 4 Axes>"
            ],
            "image/png": "[encoded data removed]"
          },
          "metadata": {
            "needs_background": "light"
          }
        },
        {
          "output_type": "stream",
          "name": "stdout",
          "text": [
            "        true_mask     -     Network_prediction\n"
          ]
        },
        {
          "output_type": "display_data",
          "data": {
            "text/plain": [
              "<Figure size 432x288 with 2 Axes>"
            ],
            "image/png": "[encoded data removed]"
          },
          "metadata": {
            "needs_background": "light"
          }
        }
      ]
    }
  ]
}